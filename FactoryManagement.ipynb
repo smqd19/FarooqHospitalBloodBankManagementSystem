{
 "cells": [
  {
   "cell_type": "code",
   "execution_count": 1,
   "id": "0fa29659",
   "metadata": {},
   "outputs": [],
   "source": [
    "import pandas as pd, tkinter as tk\n",
    "from tkinter import *\n",
    "from openpyxl import load_workbook\n",
    "from tkinter import messagebox\n",
    "from pandas import Series, DataFrame\n",
    "import matplotlib.pyplot as plt\n",
    "from statistics import mean\n",
    "from PIL import Image, ImageTk\n",
    "from openpyxl.workbook import Workbook\n",
    "from datetime import date"
   ]
  },
  {
   "cell_type": "code",
   "execution_count": 4,
   "id": "5ef8d89a",
   "metadata": {},
   "outputs": [],
   "source": [
    "client = [[1, 'Abeera']]"
   ]
  },
  {
   "cell_type": "code",
   "execution_count": 5,
   "id": "bb0eefbd",
   "metadata": {},
   "outputs": [],
   "source": [
    "client.append([2,'Qasim'])"
   ]
  },
  {
   "cell_type": "code",
   "execution_count": null,
   "id": "a981893a",
   "metadata": {},
   "outputs": [],
   "source": []
  },
  {
   "cell_type": "code",
   "execution_count": 6,
   "id": "f67bd624",
   "metadata": {},
   "outputs": [
    {
     "data": {
      "text/plain": [
       "[[1, 'Abeera'], [2, 'Qasim']]"
      ]
     },
     "execution_count": 6,
     "metadata": {},
     "output_type": "execute_result"
    }
   ],
   "source": [
    "client"
   ]
  },
  {
   "cell_type": "code",
   "execution_count": 7,
   "id": "d0830071",
   "metadata": {},
   "outputs": [],
   "source": [
    "# Create the pandas DataFrame\n",
    "df = pd.DataFrame(columns = ['CLIENT_ID','DATE', 'DETAILS OF BILL','PAGE NO. ON MANUAL LEDGER','RECIEPT NUMBER','DEBIT','CREDIT','CREDIT DETAILS','BALANCE'])\n",
    "df2 = pd.DataFrame(columns = ['CLIENT_ID','DATE', 'DETAILS OF BILL','PAGE NO. ON MANUAL LEDGER','RECIEPT NUMBER','DEBIT','CREDIT','CREDIT DETAILS','BALANCE'])"
   ]
  },
  {
   "cell_type": "code",
   "execution_count": 14,
   "id": "28332de9",
   "metadata": {},
   "outputs": [
    {
     "data": {
      "text/html": [
       "<div>\n",
       "<style scoped>\n",
       "    .dataframe tbody tr th:only-of-type {\n",
       "        vertical-align: middle;\n",
       "    }\n",
       "\n",
       "    .dataframe tbody tr th {\n",
       "        vertical-align: top;\n",
       "    }\n",
       "\n",
       "    .dataframe thead th {\n",
       "        text-align: right;\n",
       "    }\n",
       "</style>\n",
       "<table border=\"1\" class=\"dataframe\">\n",
       "  <thead>\n",
       "    <tr style=\"text-align: right;\">\n",
       "      <th></th>\n",
       "      <th>CLIENT_ID</th>\n",
       "      <th>DATE</th>\n",
       "      <th>DETAILS OF BILL</th>\n",
       "      <th>PAGE NO. ON MANUAL LEDGER</th>\n",
       "      <th>RECIEPT NUMBER</th>\n",
       "      <th>DEBIT</th>\n",
       "      <th>CREDIT</th>\n",
       "      <th>CREDIT DETAILS</th>\n",
       "      <th>BALANCE</th>\n",
       "    </tr>\n",
       "  </thead>\n",
       "  <tbody>\n",
       "    <tr>\n",
       "      <th>0</th>\n",
       "      <td>1</td>\n",
       "      <td>2021-12-23</td>\n",
       "      <td>20L1 20 Rolls || 23 L2 14 Rolls</td>\n",
       "      <td>3</td>\n",
       "      <td>1</td>\n",
       "      <td>20</td>\n",
       "      <td>5</td>\n",
       "      <td>Cash</td>\n",
       "      <td>115</td>\n",
       "    </tr>\n",
       "    <tr>\n",
       "      <th>1</th>\n",
       "      <td>1</td>\n",
       "      <td>2021-12-23</td>\n",
       "      <td>20L1 20 Rolls || 23 L2 14 Rolls</td>\n",
       "      <td>3</td>\n",
       "      <td>1</td>\n",
       "      <td>20</td>\n",
       "      <td>5</td>\n",
       "      <td>Cash</td>\n",
       "      <td>115</td>\n",
       "    </tr>\n",
       "    <tr>\n",
       "      <th>2</th>\n",
       "      <td>1</td>\n",
       "      <td>2021-12-23</td>\n",
       "      <td>20L1 20 Rolls || 23 L2 14 Rolls</td>\n",
       "      <td>3</td>\n",
       "      <td>1</td>\n",
       "      <td>20</td>\n",
       "      <td>5</td>\n",
       "      <td>Cash</td>\n",
       "      <td>115</td>\n",
       "    </tr>\n",
       "    <tr>\n",
       "      <th>3</th>\n",
       "      <td>1</td>\n",
       "      <td>2021-12-23</td>\n",
       "      <td>20L1 20 Rolls || 23 L2 14 Rolls</td>\n",
       "      <td>3</td>\n",
       "      <td>1</td>\n",
       "      <td>20</td>\n",
       "      <td>5</td>\n",
       "      <td>Cash</td>\n",
       "      <td>115</td>\n",
       "    </tr>\n",
       "    <tr>\n",
       "      <th>4</th>\n",
       "      <td>1</td>\n",
       "      <td>2021-12-23</td>\n",
       "      <td>20L1 20 Rolls || 23 L2 14 Rolls</td>\n",
       "      <td>3</td>\n",
       "      <td>1</td>\n",
       "      <td>20</td>\n",
       "      <td>5</td>\n",
       "      <td>Cash</td>\n",
       "      <td>115</td>\n",
       "    </tr>\n",
       "    <tr>\n",
       "      <th>5</th>\n",
       "      <td>1</td>\n",
       "      <td>2021-12-23</td>\n",
       "      <td>20L1 20 Rolls || 23 L2 14 Rolls</td>\n",
       "      <td>3</td>\n",
       "      <td>1</td>\n",
       "      <td>20</td>\n",
       "      <td>5</td>\n",
       "      <td>Cash</td>\n",
       "      <td>115</td>\n",
       "    </tr>\n",
       "    <tr>\n",
       "      <th>6</th>\n",
       "      <td>1</td>\n",
       "      <td>2021-12-23</td>\n",
       "      <td>20L1 20 Rolls || 23 L2 14 Rolls</td>\n",
       "      <td>3</td>\n",
       "      <td>1</td>\n",
       "      <td>20</td>\n",
       "      <td>5</td>\n",
       "      <td>Cash</td>\n",
       "      <td>115</td>\n",
       "    </tr>\n",
       "  </tbody>\n",
       "</table>\n",
       "</div>"
      ],
      "text/plain": [
       "  CLIENT_ID        DATE                  DETAILS OF BILL  \\\n",
       "0         1  2021-12-23  20L1 20 Rolls || 23 L2 14 Rolls   \n",
       "1         1  2021-12-23  20L1 20 Rolls || 23 L2 14 Rolls   \n",
       "2         1  2021-12-23  20L1 20 Rolls || 23 L2 14 Rolls   \n",
       "3         1  2021-12-23  20L1 20 Rolls || 23 L2 14 Rolls   \n",
       "4         1  2021-12-23  20L1 20 Rolls || 23 L2 14 Rolls   \n",
       "5         1  2021-12-23  20L1 20 Rolls || 23 L2 14 Rolls   \n",
       "6         1  2021-12-23  20L1 20 Rolls || 23 L2 14 Rolls   \n",
       "\n",
       "  PAGE NO. ON MANUAL LEDGER RECIEPT NUMBER DEBIT CREDIT CREDIT DETAILS BALANCE  \n",
       "0                         3              1    20      5           Cash     115  \n",
       "1                         3              1    20      5           Cash     115  \n",
       "2                         3              1    20      5           Cash     115  \n",
       "3                         3              1    20      5           Cash     115  \n",
       "4                         3              1    20      5           Cash     115  \n",
       "5                         3              1    20      5           Cash     115  \n",
       "6                         3              1    20      5           Cash     115  "
      ]
     },
     "execution_count": 14,
     "metadata": {},
     "output_type": "execute_result"
    }
   ],
   "source": [
    "#Insert Rows\n",
    "details = \"20L1 20 Rolls || 23 L2 14 Rolls\" # Entry by Stock and User\n",
    "page = '3'\n",
    "debit = 20 # Entry by user of debit\n",
    "credit = 5 # Entry by user of credit\n",
    "cred_dets = 'Cash'\n",
    "rcp_no = 1 # Entry by user of receipt number or bill # for now but should be the bill number from billing book\n",
    "balance = 100\n",
    "balance = balance + debit - credit\n",
    "df.loc[-1] = [client[0][0],date.today(),details,page,rcp_no,debit,credit,cred_dets,balance]  # adding a row\n",
    "\n",
    "df.index = df.index + 1  # shifting index\n",
    "df = df.sort_index()  # sorting by index\n",
    "df"
   ]
  },
  {
   "cell_type": "code",
   "execution_count": 73,
   "id": "e83cbdff",
   "metadata": {},
   "outputs": [
    {
     "data": {
      "text/html": [
       "<div>\n",
       "<style scoped>\n",
       "    .dataframe tbody tr th:only-of-type {\n",
       "        vertical-align: middle;\n",
       "    }\n",
       "\n",
       "    .dataframe tbody tr th {\n",
       "        vertical-align: top;\n",
       "    }\n",
       "\n",
       "    .dataframe thead th {\n",
       "        text-align: right;\n",
       "    }\n",
       "</style>\n",
       "<table border=\"1\" class=\"dataframe\">\n",
       "  <thead>\n",
       "    <tr style=\"text-align: right;\">\n",
       "      <th></th>\n",
       "      <th>CLIENT_ID</th>\n",
       "      <th>DATE</th>\n",
       "      <th>DETAILS OF BILL</th>\n",
       "      <th>PAGE NO. ON MANUAL LEDGER</th>\n",
       "      <th>RECIEPT NUMBER</th>\n",
       "      <th>DEBIT</th>\n",
       "      <th>CREDIT</th>\n",
       "      <th>CREDIT DETAILS</th>\n",
       "      <th>BALANCE</th>\n",
       "    </tr>\n",
       "  </thead>\n",
       "  <tbody>\n",
       "    <tr>\n",
       "      <th>0</th>\n",
       "      <td>1</td>\n",
       "      <td>2021-11-14</td>\n",
       "      <td>20L1 20 Rolls || 23 L2 14 Rolls</td>\n",
       "      <td>3</td>\n",
       "      <td>2</td>\n",
       "      <td>5</td>\n",
       "      <td>120</td>\n",
       "      <td>Cheques</td>\n",
       "      <td>-230</td>\n",
       "    </tr>\n",
       "    <tr>\n",
       "      <th>1</th>\n",
       "      <td>1</td>\n",
       "      <td>2021-11-14</td>\n",
       "      <td>20L1 20 Rolls || 23 L2 14 Rolls</td>\n",
       "      <td>3</td>\n",
       "      <td>2</td>\n",
       "      <td>5</td>\n",
       "      <td>120</td>\n",
       "      <td>Cheques</td>\n",
       "      <td>-115</td>\n",
       "    </tr>\n",
       "    <tr>\n",
       "      <th>2</th>\n",
       "      <td>1</td>\n",
       "      <td>2021-11-14</td>\n",
       "      <td>20L1 20 Rolls || 23 L2 14 Rolls</td>\n",
       "      <td>3</td>\n",
       "      <td>2</td>\n",
       "      <td>5</td>\n",
       "      <td>120</td>\n",
       "      <td>Cheques</td>\n",
       "      <td>0</td>\n",
       "    </tr>\n",
       "    <tr>\n",
       "      <th>3</th>\n",
       "      <td>1</td>\n",
       "      <td>2021-11-14</td>\n",
       "      <td>20L1 20 Rolls || 23 L2 14 Rolls</td>\n",
       "      <td>3</td>\n",
       "      <td>1</td>\n",
       "      <td>20</td>\n",
       "      <td>5</td>\n",
       "      <td>Cash</td>\n",
       "      <td>115</td>\n",
       "    </tr>\n",
       "  </tbody>\n",
       "</table>\n",
       "</div>"
      ],
      "text/plain": [
       "  CLIENT_ID        DATE                  DETAILS OF BILL  \\\n",
       "0         1  2021-11-14  20L1 20 Rolls || 23 L2 14 Rolls   \n",
       "1         1  2021-11-14  20L1 20 Rolls || 23 L2 14 Rolls   \n",
       "2         1  2021-11-14  20L1 20 Rolls || 23 L2 14 Rolls   \n",
       "3         1  2021-11-14  20L1 20 Rolls || 23 L2 14 Rolls   \n",
       "\n",
       "  PAGE NO. ON MANUAL LEDGER RECIEPT NUMBER DEBIT CREDIT CREDIT DETAILS BALANCE  \n",
       "0                         3              2     5    120        Cheques    -230  \n",
       "1                         3              2     5    120        Cheques    -115  \n",
       "2                         3              2     5    120        Cheques       0  \n",
       "3                         3              1    20      5           Cash     115  "
      ]
     },
     "execution_count": 73,
     "metadata": {},
     "output_type": "execute_result"
    }
   ],
   "source": [
    "debit = 5 # Entry by user of debit\n",
    "credit = 120 # Entry by user of credit\n",
    "cred_dets = 'Cheques'\n",
    "rcp_no = 2 # Entry by user of receipt number or bill # for now but should be the bill number from billing book\n",
    "balance = balance + debit - credit\n",
    "df.loc[-1] = [client[0][0],date.today(),details,page,rcp_no,debit,credit,cred_dets,balance]  # adding a row\n",
    "\n",
    "df.index = df.index + 1  # shifting index\n",
    "df = df.sort_index()  # sorting by index\n",
    "df"
   ]
  },
  {
   "cell_type": "code",
   "execution_count": 15,
   "id": "463dd320",
   "metadata": {},
   "outputs": [
    {
     "data": {
      "text/html": [
       "<div>\n",
       "<style scoped>\n",
       "    .dataframe tbody tr th:only-of-type {\n",
       "        vertical-align: middle;\n",
       "    }\n",
       "\n",
       "    .dataframe tbody tr th {\n",
       "        vertical-align: top;\n",
       "    }\n",
       "\n",
       "    .dataframe thead th {\n",
       "        text-align: right;\n",
       "    }\n",
       "</style>\n",
       "<table border=\"1\" class=\"dataframe\">\n",
       "  <thead>\n",
       "    <tr style=\"text-align: right;\">\n",
       "      <th></th>\n",
       "      <th>CLIENT_ID</th>\n",
       "      <th>DATE</th>\n",
       "      <th>DETAILS OF BILL</th>\n",
       "      <th>PAGE NO. ON MANUAL LEDGER</th>\n",
       "      <th>RECIEPT NUMBER</th>\n",
       "      <th>DEBIT</th>\n",
       "      <th>CREDIT</th>\n",
       "      <th>CREDIT DETAILS</th>\n",
       "      <th>BALANCE</th>\n",
       "    </tr>\n",
       "  </thead>\n",
       "  <tbody>\n",
       "    <tr>\n",
       "      <th>1</th>\n",
       "      <td>1</td>\n",
       "      <td>2021-12-23</td>\n",
       "      <td>20L1 20 Rolls || 23 L2 14 Rolls</td>\n",
       "      <td>3</td>\n",
       "      <td>1</td>\n",
       "      <td>20</td>\n",
       "      <td>5</td>\n",
       "      <td>Cash</td>\n",
       "      <td>115</td>\n",
       "    </tr>\n",
       "    <tr>\n",
       "      <th>2</th>\n",
       "      <td>1</td>\n",
       "      <td>2021-12-23</td>\n",
       "      <td>20L1 20 Rolls || 23 L2 14 Rolls</td>\n",
       "      <td>3</td>\n",
       "      <td>1</td>\n",
       "      <td>20</td>\n",
       "      <td>5</td>\n",
       "      <td>Cash</td>\n",
       "      <td>115</td>\n",
       "    </tr>\n",
       "    <tr>\n",
       "      <th>3</th>\n",
       "      <td>1</td>\n",
       "      <td>2021-12-23</td>\n",
       "      <td>20L1 20 Rolls || 23 L2 14 Rolls</td>\n",
       "      <td>3</td>\n",
       "      <td>1</td>\n",
       "      <td>20</td>\n",
       "      <td>5</td>\n",
       "      <td>Cash</td>\n",
       "      <td>115</td>\n",
       "    </tr>\n",
       "  </tbody>\n",
       "</table>\n",
       "</div>"
      ],
      "text/plain": [
       "  CLIENT_ID        DATE                  DETAILS OF BILL  \\\n",
       "1         1  2021-12-23  20L1 20 Rolls || 23 L2 14 Rolls   \n",
       "2         1  2021-12-23  20L1 20 Rolls || 23 L2 14 Rolls   \n",
       "3         1  2021-12-23  20L1 20 Rolls || 23 L2 14 Rolls   \n",
       "\n",
       "  PAGE NO. ON MANUAL LEDGER RECIEPT NUMBER DEBIT CREDIT CREDIT DETAILS BALANCE  \n",
       "1                         3              1    20      5           Cash     115  \n",
       "2                         3              1    20      5           Cash     115  \n",
       "3                         3              1    20      5           Cash     115  "
      ]
     },
     "execution_count": 15,
     "metadata": {},
     "output_type": "execute_result"
    }
   ],
   "source": [
    "df.iloc[1:4]"
   ]
  },
  {
   "cell_type": "code",
   "execution_count": 61,
   "id": "992929b2",
   "metadata": {},
   "outputs": [
    {
     "data": {
      "text/html": [
       "<div>\n",
       "<style scoped>\n",
       "    .dataframe tbody tr th:only-of-type {\n",
       "        vertical-align: middle;\n",
       "    }\n",
       "\n",
       "    .dataframe tbody tr th {\n",
       "        vertical-align: top;\n",
       "    }\n",
       "\n",
       "    .dataframe thead th {\n",
       "        text-align: right;\n",
       "    }\n",
       "</style>\n",
       "<table border=\"1\" class=\"dataframe\">\n",
       "  <thead>\n",
       "    <tr style=\"text-align: right;\">\n",
       "      <th></th>\n",
       "      <th>CLIENT_ID</th>\n",
       "      <th>DATE</th>\n",
       "      <th>DETAILS OF BILL</th>\n",
       "      <th>PAGE NO. ON MANUAL LEDGER</th>\n",
       "      <th>RECIEPT NUMBER</th>\n",
       "      <th>DEBIT</th>\n",
       "      <th>CREDIT</th>\n",
       "      <th>CREDIT DETAILS</th>\n",
       "      <th>BALANCE</th>\n",
       "    </tr>\n",
       "  </thead>\n",
       "  <tbody>\n",
       "    <tr>\n",
       "      <th>0</th>\n",
       "      <td>2</td>\n",
       "      <td>2021-11-14</td>\n",
       "      <td>2</td>\n",
       "      <td>3</td>\n",
       "      <td>4</td>\n",
       "      <td>5</td>\n",
       "      <td>6</td>\n",
       "      <td>7</td>\n",
       "      <td>8</td>\n",
       "    </tr>\n",
       "  </tbody>\n",
       "</table>\n",
       "</div>"
      ],
      "text/plain": [
       "  CLIENT_ID        DATE DETAILS OF BILL PAGE NO. ON MANUAL LEDGER  \\\n",
       "0         2  2021-11-14               2                         3   \n",
       "\n",
       "  RECIEPT NUMBER DEBIT CREDIT CREDIT DETAILS BALANCE  \n",
       "0              4     5      6              7       8  "
      ]
     },
     "execution_count": 61,
     "metadata": {},
     "output_type": "execute_result"
    }
   ],
   "source": [
    "\n",
    "df2.loc[-1] = [client[1][0],date.today(),'2','3','4','5','6','7','8']  # adding a row\n",
    "df2.index = df2.index + 1  # shifting index\n",
    "df2 = df2.sort_index()  # sorting by index\n",
    "df2"
   ]
  },
  {
   "cell_type": "code",
   "execution_count": 1,
   "id": "5b91fbc3",
   "metadata": {},
   "outputs": [],
   "source": [
    "fluting = [[18, 200],[20, 100]]\n",
    "l1 = [[18, 200],[20, 100]]"
   ]
  },
  {
   "cell_type": "code",
   "execution_count": 3,
   "id": "8259ee47",
   "metadata": {},
   "outputs": [
    {
     "data": {
      "text/plain": [
       "18"
      ]
     },
     "execution_count": 3,
     "metadata": {},
     "output_type": "execute_result"
    }
   ],
   "source": [
    "fluting[0][0]"
   ]
  },
  {
   "cell_type": "code",
   "execution_count": null,
   "id": "75944a38",
   "metadata": {},
   "outputs": [],
   "source": [
    "fluting_reels = [[18, '200 Kg'],[18, '100 Kg']]"
   ]
  },
  {
   "cell_type": "code",
   "execution_count": 2,
   "id": "b5676c6b",
   "metadata": {},
   "outputs": [],
   "source": [
    "import pandas as pd\n",
    "# Create the pandas DataFrame\n",
    "cash = pd.DataFrame(columns = ['CLIENT_ID','DATE', 'DETAILS OF BILL','RECIEPT NUMBER','DEBIT','CREDIT','CREDIT DETAILS','BALANCE'])"
   ]
  },
  {
   "cell_type": "code",
   "execution_count": null,
   "id": "e43e29ca",
   "metadata": {},
   "outputs": [],
   "source": [
    "#Insert Rows\n",
    "details = \"20L1 20 Rolls || 23 L2 14 Rolls\" # Entry by Stock and User\n",
    "debit = 20 # Entry by user of debit\n",
    "credit = 5 # Entry by user of credit\n",
    "cred_dets = 'Cash'\n",
    "rcp_no = 1 # Entry by user of receipt number or bill # for now but should be the bill number from billing book\n",
    "balance = 100\n",
    "balance = balance + debit - credit\n",
    "df.loc[-1] = [client[0][0],date.today(),details,rcp_no,debit,credit,cred_dets,balance]  # adding a row\n",
    "\n",
    "df.index = df.index + 1  # shifting index\n",
    "df = df.sort_index()  # sorting by index\n",
    "df"
   ]
  },
  {
   "cell_type": "code",
   "execution_count": null,
   "id": "722f987a",
   "metadata": {},
   "outputs": [],
   "source": [
    "rolls = size * quantity * rate "
   ]
  },
  {
   "cell_type": "code",
   "execution_count": null,
   "id": "559e8764",
   "metadata": {},
   "outputs": [],
   "source": [
    "for i in range \n",
    "details = size.getText() + Type.getText() + Quantity.getText() + Item.getText() + \" || \" + "
   ]
  },
  {
   "cell_type": "code",
   "execution_count": 25,
   "id": "bf6613ee",
   "metadata": {},
   "outputs": [],
   "source": [
    "import pandas as pd\n",
    "from PyQt5 import QtCore, QtGui, QtWidgets\n",
    "from PyQt5.QtWidgets import QWidget, QTableWidgetItem, QTableWidget\n",
    "from PyQt5.uic import loadUi\n",
    "from PyQt5.QtCore import QDate\n",
    "\n",
    "from openpyxl import load_workbook\n",
    "from pandas import Series, DataFrame\n",
    "import matplotlib.pyplot as plt\n",
    "from PIL import Image, ImageTk\n",
    "from datetime import datetime\n",
    "from openpyxl.workbook import Workbook\n",
    "from datetime import date\n",
    "\n",
    "CashCustomers = pd.read_excel('CASH.xlsx', index_col=0, sheet_name='CASH')"
   ]
  },
  {
   "cell_type": "code",
   "execution_count": 26,
   "id": "d73ddea7",
   "metadata": {},
   "outputs": [
    {
     "data": {
      "text/html": [
       "<div>\n",
       "<style scoped>\n",
       "    .dataframe tbody tr th:only-of-type {\n",
       "        vertical-align: middle;\n",
       "    }\n",
       "\n",
       "    .dataframe tbody tr th {\n",
       "        vertical-align: top;\n",
       "    }\n",
       "\n",
       "    .dataframe thead th {\n",
       "        text-align: right;\n",
       "    }\n",
       "</style>\n",
       "<table border=\"1\" class=\"dataframe\">\n",
       "  <thead>\n",
       "    <tr style=\"text-align: right;\">\n",
       "      <th></th>\n",
       "      <th>CLIENT_ID</th>\n",
       "      <th>CLIENT_NAME</th>\n",
       "      <th>DETAILS_OF_BILL</th>\n",
       "      <th>RECIEPT_NUMBER</th>\n",
       "      <th>DEBIT</th>\n",
       "      <th>RENT</th>\n",
       "      <th>CREDIT</th>\n",
       "      <th>CREDIT_DETAILS</th>\n",
       "      <th>BALANCE</th>\n",
       "    </tr>\n",
       "    <tr>\n",
       "      <th>DATE</th>\n",
       "      <th></th>\n",
       "      <th></th>\n",
       "      <th></th>\n",
       "      <th></th>\n",
       "      <th></th>\n",
       "      <th></th>\n",
       "      <th></th>\n",
       "      <th></th>\n",
       "      <th></th>\n",
       "    </tr>\n",
       "  </thead>\n",
       "  <tbody>\n",
       "    <tr>\n",
       "      <th>2022-02-17</th>\n",
       "      <td>1</td>\n",
       "      <td>self.clientName.toPlainText()</td>\n",
       "      <td>str(updated)</td>\n",
       "      <td>1</td>\n",
       "      <td>self.totalTextField.toPlainText()</td>\n",
       "      <td>self.RentTextField.toPlainText()</td>\n",
       "      <td>self.CreditTextField.toPlainText()</td>\n",
       "      <td>self.CreditDetailsTextField.toPlainText()</td>\n",
       "      <td>str(float(DEBIT)-float(CREDIT))</td>\n",
       "    </tr>\n",
       "  </tbody>\n",
       "</table>\n",
       "</div>"
      ],
      "text/plain": [
       "            CLIENT_ID                    CLIENT_NAME DETAILS_OF_BILL  \\\n",
       "DATE                                                                   \n",
       "2022-02-17          1  self.clientName.toPlainText()    str(updated)   \n",
       "\n",
       "            RECIEPT_NUMBER                              DEBIT  \\\n",
       "DATE                                                            \n",
       "2022-02-17               1  self.totalTextField.toPlainText()   \n",
       "\n",
       "                                        RENT  \\\n",
       "DATE                                           \n",
       "2022-02-17  self.RentTextField.toPlainText()   \n",
       "\n",
       "                                        CREDIT  \\\n",
       "DATE                                             \n",
       "2022-02-17  self.CreditTextField.toPlainText()   \n",
       "\n",
       "                                       CREDIT_DETAILS  \\\n",
       "DATE                                                    \n",
       "2022-02-17  self.CreditDetailsTextField.toPlainText()   \n",
       "\n",
       "                                    BALANCE  \n",
       "DATE                                         \n",
       "2022-02-17  str(float(DEBIT)-float(CREDIT))  "
      ]
     },
     "execution_count": 26,
     "metadata": {},
     "output_type": "execute_result"
    }
   ],
   "source": [
    "CashCustomers"
   ]
  },
  {
   "cell_type": "code",
   "execution_count": 22,
   "id": "52214d72",
   "metadata": {},
   "outputs": [],
   "source": [
    "def write_excel(filename, sheetname, dataframe):\n",
    "    with pd.ExcelWriter(filename, engine='openpyxl', mode='a') as writer:\n",
    "        workBook = writer.book\n",
    "        try:\n",
    "            try:\n",
    "                workBook.remove(workBook[sheetname])\n",
    "            except:\n",
    "                print('Worksheet does not exist')\n",
    "\n",
    "        finally:\n",
    "            dataframe.to_excel(writer, sheet_name=sheetname, index=False,header=True)\n",
    "            writer.save()"
   ]
  },
  {
   "cell_type": "code",
   "execution_count": 8,
   "id": "b5897c4a",
   "metadata": {},
   "outputs": [
    {
     "data": {
      "text/plain": [
       "0"
      ]
     },
     "execution_count": 8,
     "metadata": {},
     "output_type": "execute_result"
    }
   ],
   "source": [
    "len(CashCustomers)"
   ]
  },
  {
   "cell_type": "code",
   "execution_count": 23,
   "id": "69bf71bb",
   "metadata": {},
   "outputs": [],
   "source": [
    "def cashbill( ):\n",
    "    global CashCustomers\n",
    "    DATE= date.today()\n",
    "    CLIENT_ID='1'\n",
    "    CLIENT_NAME='self.clientName.toPlainText()'\n",
    "    DETAILS_OF_BILL='str(updated)'\n",
    "    RECIEPT_NUMBER='1'\n",
    "    DEBIT='self.totalTextField.toPlainText()'\n",
    "    RENT='self.RentTextField.toPlainText()'\n",
    "    CREDIT= 'self.CreditTextField.toPlainText()'\n",
    "    CREDIT_DETAILS='self.CreditDetailsTextField.toPlainText()'\n",
    "    BALANCE='str(float(DEBIT)-float(CREDIT))'\n",
    "    text = 'CASH'\n",
    "    print(CashCustomers)\n",
    "    CashCustomers.loc[-1] = [DATE, CLIENT_ID,CLIENT_NAME, DETAILS_OF_BILL,RECIEPT_NUMBER,DEBIT,RENT,CREDIT,CREDIT_DETAILS,BALANCE]\n",
    "    CashCustomers.index = CashCustomers.index + 1  # shifting index\n",
    "    CashCustomers = CashCustomers.sort_index()  # sorting by index\n",
    "    print(CashCustomers)\n",
    "\n",
    "    write_excel('CASH.xlsx', text,CashCustomers)"
   ]
  },
  {
   "cell_type": "code",
   "execution_count": 24,
   "id": "ec841801",
   "metadata": {},
   "outputs": [
    {
     "name": "stdout",
     "output_type": "stream",
     "text": [
      "Empty DataFrame\n",
      "Columns: [DATE, CLIENT_ID, CLIENT_NAME, DETAILS_OF_BILL, RECIEPT_NUMBER, DEBIT, RENT, CREDIT, CREDIT_DETAILS, BALANCE]\n",
      "Index: []\n",
      "         DATE CLIENT_ID                    CLIENT_NAME DETAILS_OF_BILL  \\\n",
      "0  2022-02-17         1  self.clientName.toPlainText()    str(updated)   \n",
      "\n",
      "  RECIEPT_NUMBER                              DEBIT  \\\n",
      "0              1  self.totalTextField.toPlainText()   \n",
      "\n",
      "                               RENT                              CREDIT  \\\n",
      "0  self.RentTextField.toPlainText()  self.CreditTextField.toPlainText()   \n",
      "\n",
      "                              CREDIT_DETAILS                          BALANCE  \n",
      "0  self.CreditDetailsTextField.toPlainText()  str(float(DEBIT)-float(CREDIT))  \n"
     ]
    }
   ],
   "source": [
    "cashbill()"
   ]
  },
  {
   "cell_type": "code",
   "execution_count": null,
   "id": "2405cd46",
   "metadata": {},
   "outputs": [],
   "source": []
  }
 ],
 "metadata": {
  "kernelspec": {
   "display_name": "Python 3",
   "language": "python",
   "name": "python3"
  },
  "language_info": {
   "codemirror_mode": {
    "name": "ipython",
    "version": 3
   },
   "file_extension": ".py",
   "mimetype": "text/x-python",
   "name": "python",
   "nbconvert_exporter": "python",
   "pygments_lexer": "ipython3",
   "version": "3.8.8"
  }
 },
 "nbformat": 4,
 "nbformat_minor": 5
}
